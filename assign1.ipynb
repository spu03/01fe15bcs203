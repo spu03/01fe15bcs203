{
 "cells": [
  {
   "cell_type": "code",
   "execution_count": null,
   "metadata": {
    "collapsed": true
   },
   "outputs": [],
   "source": [
    "import tensorflow as tf\n",
    "with tf name_scope(\"s_1\"):\n",
    "    with tf name_scope(\"s_4\"):\n",
    "    with tf name_scope(\"s_2\"):\n",
    "        a=9\n",
    "        c=tf.pow(a,2)\n",
    "    with tf.name_scope(\"s_3\"):\n",
    "        b=5\n",
    "        d=tf.pow(b,2)\n",
    "\n",
    "        e=tf.add(c,d)\n",
    "    with tf name_scope(\"s_5\"):\n",
    "    f=tf.multiply(tf.multiply(2,a),b)\n",
    "\n",
    "    with tf name_scope(\"s_6\"):\n",
    "    g=tf.add(e,f)\n",
    "\n",
    "    with tf.session() as sess:\n",
    "    writer=tf.summary.FileWriter\n",
    "        (\"/tmp/tboard/output\",sess graph)\n",
    "    print (sess.run(g))\n",
    "    writer.close()\n"
   ]
  },
  {
   "cell_type": "code",
   "execution_count": null,
   "metadata": {
    "collapsed": true
   },
   "outputs": [],
   "source": [
    "import tensorflow as tf\n",
    "with tf name_scope(\"s_1\"):\n",
    "    with tf name_scope(\"s_4\"):\n",
    "        with tf name_scope(\"s_2\"):\n",
    "            a=9\n",
    "            c=tf.pow(a,3)\n",
    "\n",
    "    with tf name_scope(\"s_3\"):\n",
    "        b=5\n",
    "        d=tf.pow(b,3)\n",
    "    e=tf.subtract(c,d)\n",
    "    with tf.name_scope(\"s_5\"):\n",
    "        f=tf.multiply(tf.multiply(3,a),b)\n",
    "\n",
    "    with tf name_scope(\"s_6\"):\n",
    "        g=tf.subtract(a,b)\n",
    "    with tf name_scope(\"s_7\"):\n",
    "        h=tf.multiply(g,f)\n",
    "    with tf name_scope(\"s_8\"):\n",
    "        i=tf.add(e,h)\n",
    "    with tf.session() as sess:\n",
    "        writer=tf.summary.FileWriter\n",
    "            (\"/tmp/tboard/output\",sess graph)\n",
    "        print(sess.run(g))\n",
    "        writer.close()"
   ]
  }
 ],
 "metadata": {
  "anaconda-cloud": {},
  "kernelspec": {
   "display_name": "Python [default]",
   "language": "python",
   "name": "python3"
  },
  "language_info": {
   "codemirror_mode": {
    "name": "ipython",
    "version": 3
   },
   "file_extension": ".py",
   "mimetype": "text/x-python",
   "name": "python",
   "nbconvert_exporter": "python",
   "pygments_lexer": "ipython3",
   "version": "3.5.2"
  }
 },
 "nbformat": 4,
 "nbformat_minor": 1
}
