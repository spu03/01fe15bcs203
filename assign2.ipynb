{
 "cells": [
  {
   "cell_type": "code",
   "execution_count": null,
   "metadata": {
    "collapsed": true
   },
   "outputs": [],
   "source": [
    "import tensorflow as tf\n",
    "x=tf.constant([ 1.0, 2.0, 3.0, 4.0, 5.0, 6.0], name='x')\n",
    "y=tf.constant([ 2.0, 4.0, 6.0, 8.0, 10.0, 12.0], name='y')\n",
    "\n",
    "c=tf.reduce_mean(x)\n",
    "sesss=tf.Session()\n",
    "sesss.run(c)\n",
    "\n",
    "d=tf.reduce_mean(y)\n",
    "sesss.run(d)\n",
    "\n",
    "e=tf.subtract(x, c)\n",
    "f=tf.pow(e,2)\n",
    "var=tf.reduce_sum(f)\n",
    "sesss.run(var)\n",
    "\n",
    "e=tf.subtract(y, d)\n",
    "h=tf.multiply(e,g)\n",
    "covar= tf.reduce_sum(h)\n",
    "sesss.run(covar)\n",
    "\n",
    "cvalue=tf.divide(covar, var)\n",
    "sesss.run(cvalue)\n"
   ]
  }
 ],
 "metadata": {
  "anaconda-cloud": {},
  "kernelspec": {
   "display_name": "Python [default]",
   "language": "python",
   "name": "python3"
  },
  "language_info": {
   "codemirror_mode": {
    "name": "ipython",
    "version": 3
   },
   "file_extension": ".py",
   "mimetype": "text/x-python",
   "name": "python",
   "nbconvert_exporter": "python",
   "pygments_lexer": "ipython3",
   "version": "3.5.2"
  }
 },
 "nbformat": 4,
 "nbformat_minor": 1
}
